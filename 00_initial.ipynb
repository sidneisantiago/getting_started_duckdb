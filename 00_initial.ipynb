{
 "cells": [
  {
   "cell_type": "code",
   "execution_count": 85,
   "metadata": {},
   "outputs": [],
   "source": [
    "import duckdb\n",
    "import polars as pl\n",
    "import pandas as pd"
   ]
  },
  {
   "cell_type": "code",
   "execution_count": 86,
   "metadata": {},
   "outputs": [
    {
     "name": "stdout",
     "output_type": "stream",
     "text": [
      "[(42,)]\n"
     ]
    }
   ],
   "source": [
    "cursor = duckdb.connect()\n",
    "print(cursor.execute('SELECT 42').fetchall())"
   ]
  },
  {
   "cell_type": "code",
   "execution_count": 87,
   "metadata": {},
   "outputs": [
    {
     "name": "stdout",
     "output_type": "stream",
     "text": [
      "┌───────┐\n",
      "│  42   │\n",
      "│ int32 │\n",
      "├───────┤\n",
      "│    42 │\n",
      "└───────┘\n",
      "\n"
     ]
    }
   ],
   "source": [
    "duckdb.sql(\"SELECT 42\").show()"
   ]
  },
  {
   "cell_type": "code",
   "execution_count": 88,
   "metadata": {},
   "outputs": [
    {
     "data": {
      "text/plain": [
       "┌──────────────────────┬──────────────────┬─────────────────┬───┬───────────────┬──────────────────┬──────────────┐\n",
       "│      job_title       │ experience_level │ employment_type │ … │ salary_in_usd │ company_location │ company_size │\n",
       "│       varchar        │     varchar      │     varchar     │   │     int64     │     varchar      │   varchar    │\n",
       "├──────────────────────┼──────────────────┼─────────────────┼───┼───────────────┼──────────────────┼──────────────┤\n",
       "│ Data Engineer        │ Mid-level        │ Full-time       │ … │        148100 │ United States    │ Medium       │\n",
       "│ Data Engineer        │ Mid-level        │ Full-time       │ … │         98700 │ United States    │ Medium       │\n",
       "│ Data Scientist       │ Senior-level     │ Full-time       │ … │        140032 │ United States    │ Medium       │\n",
       "│ Data Scientist       │ Senior-level     │ Full-time       │ … │        100022 │ United States    │ Medium       │\n",
       "│ BI Developer         │ Mid-level        │ Full-time       │ … │        120000 │ United States    │ Medium       │\n",
       "│ BI Developer         │ Mid-level        │ Full-time       │ … │         62100 │ United States    │ Medium       │\n",
       "│ Research Analyst     │ Entry-level      │ Full-time       │ … │        250000 │ United States    │ Medium       │\n",
       "│ Research Analyst     │ Entry-level      │ Full-time       │ … │        150000 │ United States    │ Medium       │\n",
       "│ Data Engineer        │ Executive-level  │ Full-time       │ … │        219650 │ United States    │ Medium       │\n",
       "│ Data Engineer        │ Executive-level  │ Full-time       │ … │        136000 │ United States    │ Medium       │\n",
       "│       ·              │     ·            │     ·           │ · │           ·   │    ·             │   ·          │\n",
       "│       ·              │     ·            │     ·           │ · │           ·   │    ·             │   ·          │\n",
       "│       ·              │     ·            │     ·           │ · │           ·   │    ·             │   ·          │\n",
       "│ Data Engineer        │ Mid-level        │ Full-time       │ … │         59303 │ Germany          │ Small        │\n",
       "│ ML Engineer          │ Entry-level      │ Part-time       │ … │         15966 │ Germany          │ Small        │\n",
       "│ Data Scientist       │ Mid-level        │ Full-time       │ … │         79833 │ Germany          │ Large        │\n",
       "│ Data Scientist       │ Entry-level      │ Full-time       │ … │         62726 │ Germany          │ Small        │\n",
       "│ Principal Data Sci…  │ Senior-level     │ Full-time       │ … │        148261 │ Germany          │ Medium       │\n",
       "│ Staff Data Analyst   │ Entry-level      │ Contract        │ … │         44753 │ Canada           │ Large        │\n",
       "│ Staff Data Analyst   │ Executive-level  │ Full-time       │ … │         15000 │ Canada           │ Medium       │\n",
       "│ Machine Learning M…  │ Senior-level     │ Full-time       │ … │        117104 │ Canada           │ Large        │\n",
       "│ Data Engineer        │ Mid-level        │ Full-time       │ … │         74130 │ Austria          │ Large        │\n",
       "│ Data Scientist       │ Senior-level     │ Full-time       │ … │         91237 │ Austria          │ Small        │\n",
       "├──────────────────────┴──────────────────┴─────────────────┴───┴───────────────┴──────────────────┴──────────────┤\n",
       "│ 6599 rows (20 shown)                                                                       11 columns (6 shown) │\n",
       "└─────────────────────────────────────────────────────────────────────────────────────────────────────────────────┘"
      ]
     },
     "execution_count": 88,
     "metadata": {},
     "output_type": "execute_result"
    }
   ],
   "source": [
    "duckdb.read_csv(\"data/data_science_salaries.csv\")"
   ]
  },
  {
   "cell_type": "code",
   "execution_count": 89,
   "metadata": {},
   "outputs": [
    {
     "data": {
      "text/plain": [
       "┌──────────────────────┬──────────────────┬─────────────────┬───┬───────────────┬──────────────────┬──────────────┐\n",
       "│      job_title       │ experience_level │ employment_type │ … │ salary_in_usd │ company_location │ company_size │\n",
       "│       varchar        │     varchar      │     varchar     │   │     int64     │     varchar      │   varchar    │\n",
       "├──────────────────────┼──────────────────┼─────────────────┼───┼───────────────┼──────────────────┼──────────────┤\n",
       "│ Data Engineer        │ Mid-level        │ Full-time       │ … │        148100 │ United States    │ Medium       │\n",
       "│ Data Engineer        │ Mid-level        │ Full-time       │ … │         98700 │ United States    │ Medium       │\n",
       "│ Data Scientist       │ Senior-level     │ Full-time       │ … │        140032 │ United States    │ Medium       │\n",
       "│ Data Scientist       │ Senior-level     │ Full-time       │ … │        100022 │ United States    │ Medium       │\n",
       "│ BI Developer         │ Mid-level        │ Full-time       │ … │        120000 │ United States    │ Medium       │\n",
       "│ BI Developer         │ Mid-level        │ Full-time       │ … │         62100 │ United States    │ Medium       │\n",
       "│ Research Analyst     │ Entry-level      │ Full-time       │ … │        250000 │ United States    │ Medium       │\n",
       "│ Research Analyst     │ Entry-level      │ Full-time       │ … │        150000 │ United States    │ Medium       │\n",
       "│ Data Engineer        │ Executive-level  │ Full-time       │ … │        219650 │ United States    │ Medium       │\n",
       "│ Data Engineer        │ Executive-level  │ Full-time       │ … │        136000 │ United States    │ Medium       │\n",
       "│       ·              │     ·            │     ·           │ · │           ·   │    ·             │   ·          │\n",
       "│       ·              │     ·            │     ·           │ · │           ·   │    ·             │   ·          │\n",
       "│       ·              │     ·            │     ·           │ · │           ·   │    ·             │   ·          │\n",
       "│ Data Engineer        │ Mid-level        │ Full-time       │ … │         59303 │ Germany          │ Small        │\n",
       "│ ML Engineer          │ Entry-level      │ Part-time       │ … │         15966 │ Germany          │ Small        │\n",
       "│ Data Scientist       │ Mid-level        │ Full-time       │ … │         79833 │ Germany          │ Large        │\n",
       "│ Data Scientist       │ Entry-level      │ Full-time       │ … │         62726 │ Germany          │ Small        │\n",
       "│ Principal Data Sci…  │ Senior-level     │ Full-time       │ … │        148261 │ Germany          │ Medium       │\n",
       "│ Staff Data Analyst   │ Entry-level      │ Contract        │ … │         44753 │ Canada           │ Large        │\n",
       "│ Staff Data Analyst   │ Executive-level  │ Full-time       │ … │         15000 │ Canada           │ Medium       │\n",
       "│ Machine Learning M…  │ Senior-level     │ Full-time       │ … │        117104 │ Canada           │ Large        │\n",
       "│ Data Engineer        │ Mid-level        │ Full-time       │ … │         74130 │ Austria          │ Large        │\n",
       "│ Data Scientist       │ Senior-level     │ Full-time       │ … │         91237 │ Austria          │ Small        │\n",
       "├──────────────────────┴──────────────────┴─────────────────┴───┴───────────────┴──────────────────┴──────────────┤\n",
       "│ 6599 rows (20 shown)                                                                       11 columns (6 shown) │\n",
       "└─────────────────────────────────────────────────────────────────────────────────────────────────────────────────┘"
      ]
     },
     "execution_count": 89,
     "metadata": {},
     "output_type": "execute_result"
    }
   ],
   "source": [
    "duckdb.sql(\"SELECT * FROM 'data/data_science_salaries.csv'\")"
   ]
  },
  {
   "cell_type": "code",
   "execution_count": 90,
   "metadata": {},
   "outputs": [],
   "source": [
    "# create a connection to a file called 'file.db'\n",
    "con = duckdb.connect(\"data/db_ds_salaries.db\")"
   ]
  },
  {
   "cell_type": "code",
   "execution_count": 91,
   "metadata": {},
   "outputs": [
    {
     "data": {
      "text/plain": [
       "┌─────────────────┐\n",
       "│      name       │\n",
       "│     varchar     │\n",
       "├─────────────────┤\n",
       "│ tbl_ds_salaries │\n",
       "└─────────────────┘"
      ]
     },
     "execution_count": 91,
     "metadata": {},
     "output_type": "execute_result"
    }
   ],
   "source": [
    "con.sql(\"SHOW TABLES;\")"
   ]
  },
  {
   "cell_type": "code",
   "execution_count": 92,
   "metadata": {},
   "outputs": [
    {
     "data": {
      "text/plain": [
       "┌────────────────────┬─────────────┬─────────┬─────────┬─────────┬─────────┐\n",
       "│    column_name     │ column_type │  null   │   key   │ default │  extra  │\n",
       "│      varchar       │   varchar   │ varchar │ varchar │ varchar │ varchar │\n",
       "├────────────────────┼─────────────┼─────────┼─────────┼─────────┼─────────┤\n",
       "│ job_title          │ VARCHAR     │ YES     │ NULL    │ NULL    │ NULL    │\n",
       "│ experience_level   │ VARCHAR     │ YES     │ NULL    │ NULL    │ NULL    │\n",
       "│ employment_type    │ VARCHAR     │ YES     │ NULL    │ NULL    │ NULL    │\n",
       "│ work_models        │ VARCHAR     │ YES     │ NULL    │ NULL    │ NULL    │\n",
       "│ work_year          │ BIGINT      │ YES     │ NULL    │ NULL    │ NULL    │\n",
       "│ employee_residence │ VARCHAR     │ YES     │ NULL    │ NULL    │ NULL    │\n",
       "│ salary             │ BIGINT      │ YES     │ NULL    │ NULL    │ NULL    │\n",
       "│ salary_currency    │ VARCHAR     │ YES     │ NULL    │ NULL    │ NULL    │\n",
       "│ salary_in_usd      │ BIGINT      │ YES     │ NULL    │ NULL    │ NULL    │\n",
       "│ company_location   │ VARCHAR     │ YES     │ NULL    │ NULL    │ NULL    │\n",
       "│ company_size       │ VARCHAR     │ YES     │ NULL    │ NULL    │ NULL    │\n",
       "├────────────────────┴─────────────┴─────────┴─────────┴─────────┴─────────┤\n",
       "│ 11 rows                                                        6 columns │\n",
       "└──────────────────────────────────────────────────────────────────────────┘"
      ]
     },
     "execution_count": 92,
     "metadata": {},
     "output_type": "execute_result"
    }
   ],
   "source": [
    "con.sql(\"DESCRIBE TABLE tbl_ds_salaries;\")"
   ]
  },
  {
   "cell_type": "code",
   "execution_count": 93,
   "metadata": {},
   "outputs": [],
   "source": [
    "# create a table and load data into it\n",
    "#con.sql(\"CREATE TABLE tbl_ds_salaries AS SELECT * FROM 'data/data_science_salaries.csv'\")"
   ]
  },
  {
   "cell_type": "code",
   "execution_count": 94,
   "metadata": {},
   "outputs": [
    {
     "name": "stdout",
     "output_type": "stream",
     "text": [
      "┌──────────────────────┬──────────────────┬─────────────────┬───┬───────────────┬──────────────────┬──────────────┐\n",
      "│      job_title       │ experience_level │ employment_type │ … │ salary_in_usd │ company_location │ company_size │\n",
      "│       varchar        │     varchar      │     varchar     │   │     int64     │     varchar      │   varchar    │\n",
      "├──────────────────────┼──────────────────┼─────────────────┼───┼───────────────┼──────────────────┼──────────────┤\n",
      "│ Data Engineer        │ Mid-level        │ Full-time       │ … │        148100 │ United States    │ Medium       │\n",
      "│ Data Engineer        │ Mid-level        │ Full-time       │ … │         98700 │ United States    │ Medium       │\n",
      "│ Data Scientist       │ Senior-level     │ Full-time       │ … │        140032 │ United States    │ Medium       │\n",
      "│ Data Scientist       │ Senior-level     │ Full-time       │ … │        100022 │ United States    │ Medium       │\n",
      "│ BI Developer         │ Mid-level        │ Full-time       │ … │        120000 │ United States    │ Medium       │\n",
      "│ BI Developer         │ Mid-level        │ Full-time       │ … │         62100 │ United States    │ Medium       │\n",
      "│ Research Analyst     │ Entry-level      │ Full-time       │ … │        250000 │ United States    │ Medium       │\n",
      "│ Research Analyst     │ Entry-level      │ Full-time       │ … │        150000 │ United States    │ Medium       │\n",
      "│ Data Engineer        │ Executive-level  │ Full-time       │ … │        219650 │ United States    │ Medium       │\n",
      "│ Data Engineer        │ Executive-level  │ Full-time       │ … │        136000 │ United States    │ Medium       │\n",
      "│       ·              │     ·            │     ·           │ · │           ·   │    ·             │   ·          │\n",
      "│       ·              │     ·            │     ·           │ · │           ·   │    ·             │   ·          │\n",
      "│       ·              │     ·            │     ·           │ · │           ·   │    ·             │   ·          │\n",
      "│ Data Engineer        │ Mid-level        │ Full-time       │ … │         59303 │ Germany          │ Small        │\n",
      "│ ML Engineer          │ Entry-level      │ Part-time       │ … │         15966 │ Germany          │ Small        │\n",
      "│ Data Scientist       │ Mid-level        │ Full-time       │ … │         79833 │ Germany          │ Large        │\n",
      "│ Data Scientist       │ Entry-level      │ Full-time       │ … │         62726 │ Germany          │ Small        │\n",
      "│ Principal Data Sci…  │ Senior-level     │ Full-time       │ … │        148261 │ Germany          │ Medium       │\n",
      "│ Staff Data Analyst   │ Entry-level      │ Contract        │ … │         44753 │ Canada           │ Large        │\n",
      "│ Staff Data Analyst   │ Executive-level  │ Full-time       │ … │         15000 │ Canada           │ Medium       │\n",
      "│ Machine Learning M…  │ Senior-level     │ Full-time       │ … │        117104 │ Canada           │ Large        │\n",
      "│ Data Engineer        │ Mid-level        │ Full-time       │ … │         74130 │ Austria          │ Large        │\n",
      "│ Data Scientist       │ Senior-level     │ Full-time       │ … │         91237 │ Austria          │ Small        │\n",
      "├──────────────────────┴──────────────────┴─────────────────┴───┴───────────────┴──────────────────┴──────────────┤\n",
      "│ 6599 rows (20 shown)                                                                       11 columns (6 shown) │\n",
      "└─────────────────────────────────────────────────────────────────────────────────────────────────────────────────┘\n",
      "\n"
     ]
    }
   ],
   "source": [
    "con.table(\"tbl_ds_salaries\").show()"
   ]
  },
  {
   "cell_type": "code",
   "execution_count": 95,
   "metadata": {},
   "outputs": [
    {
     "name": "stdout",
     "output_type": "stream",
     "text": [
      "┌──────────────────────┬──────────────────┬─────────────────┬───┬───────────────┬──────────────────┬──────────────┐\n",
      "│      job_title       │ experience_level │ employment_type │ … │ salary_in_usd │ company_location │ company_size │\n",
      "│       varchar        │     varchar      │     varchar     │   │     int64     │     varchar      │   varchar    │\n",
      "├──────────────────────┼──────────────────┼─────────────────┼───┼───────────────┼──────────────────┼──────────────┤\n",
      "│ ML Engineer          │ Senior-level     │ Full-time       │ … │        212000 │ Germany          │ Medium       │\n",
      "│ ML Engineer          │ Senior-level     │ Full-time       │ … │         93300 │ Germany          │ Medium       │\n",
      "│ Data Science         │ Entry-level      │ Part-time       │ … │         16666 │ Germany          │ Medium       │\n",
      "│ Data Scientist       │ Mid-level        │ Full-time       │ … │         60462 │ Germany          │ Large        │\n",
      "│ ML Engineer          │ Senior-level     │ Full-time       │ … │        275000 │ Germany          │ Medium       │\n",
      "│ ML Engineer          │ Senior-level     │ Full-time       │ … │        121200 │ Germany          │ Medium       │\n",
      "│ Data DevOps Engineer │ Mid-level        │ Full-time       │ … │         95012 │ Germany          │ Large        │\n",
      "│ Data Analyst         │ Mid-level        │ Full-time       │ … │         42107 │ Germany          │ Medium       │\n",
      "│ AI Engineer          │ Entry-level      │ Full-time       │ … │         35000 │ Germany          │ Medium       │\n",
      "│ AI Scientist         │ Senior-level     │ Full-time       │ … │         64781 │ Germany          │ Large        │\n",
      "│      ·               │     ·            │     ·           │ · │           ·   │    ·             │   ·          │\n",
      "│      ·               │     ·            │     ·           │ · │           ·   │    ·             │   ·          │\n",
      "│      ·               │     ·            │     ·           │ · │           ·   │    ·             │   ·          │\n",
      "│ Data Scientist       │ Mid-level        │ Full-time       │ … │         88654 │ Germany          │ Large        │\n",
      "│ Principal Data Sci…  │ Senior-level     │ Full-time       │ … │        173762 │ Germany          │ Medium       │\n",
      "│ Data Analyst         │ Entry-level      │ Full-time       │ … │         47899 │ Germany          │ Large        │\n",
      "│ Data Scientist       │ Entry-level      │ Full-time       │ … │         49268 │ Germany          │ Small        │\n",
      "│ Data Engineer        │ Entry-level      │ Full-time       │ … │         54742 │ Germany          │ Large        │\n",
      "│ Data Engineer        │ Mid-level        │ Full-time       │ … │         59303 │ Germany          │ Small        │\n",
      "│ ML Engineer          │ Entry-level      │ Part-time       │ … │         15966 │ Germany          │ Small        │\n",
      "│ Data Scientist       │ Mid-level        │ Full-time       │ … │         79833 │ Germany          │ Large        │\n",
      "│ Data Scientist       │ Entry-level      │ Full-time       │ … │         62726 │ Germany          │ Small        │\n",
      "│ Principal Data Sci…  │ Senior-level     │ Full-time       │ … │        148261 │ Germany          │ Medium       │\n",
      "├──────────────────────┴──────────────────┴─────────────────┴───┴───────────────┴──────────────────┴──────────────┤\n",
      "│ 78 rows (20 shown)                                                                         11 columns (6 shown) │\n",
      "└─────────────────────────────────────────────────────────────────────────────────────────────────────────────────┘\n",
      "\n"
     ]
    }
   ],
   "source": [
    "con.sql(\"\"\"\n",
    "    SELECT * FROM tbl_ds_salaries WHERE company_location = 'Germany' \"\"\"\n",
    ").show()"
   ]
  },
  {
   "cell_type": "code",
   "execution_count": 96,
   "metadata": {},
   "outputs": [],
   "source": [
    "df_arrow = con.query(\"\"\"\n",
    "    SELECT * FROM tbl_ds_salaries WHERE company_location = 'Germany' \"\"\"\n",
    ").arrow()"
   ]
  },
  {
   "cell_type": "code",
   "execution_count": 97,
   "metadata": {},
   "outputs": [
    {
     "name": "stdout",
     "output_type": "stream",
     "text": [
      "pyarrow.Table\n",
      "job_title: string\n",
      "experience_level: string\n",
      "employment_type: string\n",
      "work_models: string\n",
      "work_year: int64\n",
      "employee_residence: string\n",
      "salary: int64\n",
      "salary_currency: string\n",
      "salary_in_usd: int64\n",
      "company_location: string\n",
      "company_size: string\n",
      "----\n",
      "job_title: [[\"ML Engineer\",\"ML Engineer\",\"Data Science\",\"Data Scientist\",\"ML Engineer\",...,\"Data Engineer\",\"ML Engineer\",\"Data Scientist\",\"Data Scientist\",\"Principal Data Scientist\"]]\n",
      "experience_level: [[\"Senior-level\",\"Senior-level\",\"Entry-level\",\"Mid-level\",\"Senior-level\",...,\"Mid-level\",\"Entry-level\",\"Mid-level\",\"Entry-level\",\"Senior-level\"]]\n",
      "employment_type: [[\"Full-time\",\"Full-time\",\"Part-time\",\"Full-time\",\"Full-time\",...,\"Full-time\",\"Part-time\",\"Full-time\",\"Full-time\",\"Full-time\"]]\n",
      "work_models: [[\"On-site\",\"On-site\",\"Hybrid\",\"Remote\",\"On-site\",...,\"Remote\",\"Remote\",\"On-site\",\"Hybrid\",\"Remote\"]]\n",
      "work_year: [[2024,2024,2024,2023,2023,...,2020,2020,2020,2020,2020]]\n",
      "employee_residence: [[\"Germany\",\"Germany\",\"Germany\",\"Germany\",\"Germany\",...,\"Germany\",\"Germany\",\"Germany\",\"Germany\",\"Germany\"]]\n",
      "salary: [[212000,93300,15000,56000,275000,...,51999,14000,70000,55000,130000]]\n",
      "salary_currency: [[\"USD\",\"USD\",\"EUR\",\"EUR\",\"USD\",...,\"EUR\",\"EUR\",\"EUR\",\"EUR\",\"EUR\"]]\n",
      "salary_in_usd: [[212000,93300,16666,60462,275000,...,59303,15966,79833,62726,148261]]\n",
      "company_location: [[\"Germany\",\"Germany\",\"Germany\",\"Germany\",\"Germany\",...,\"Germany\",\"Germany\",\"Germany\",\"Germany\",\"Germany\"]]\n",
      "...\n"
     ]
    }
   ],
   "source": [
    "print(df_arrow)"
   ]
  },
  {
   "cell_type": "code",
   "execution_count": 98,
   "metadata": {},
   "outputs": [
    {
     "name": "stdout",
     "output_type": "stream",
     "text": [
      "<class 'pyarrow.lib.Table'>\n"
     ]
    }
   ],
   "source": [
    "print(type(df_arrow))"
   ]
  },
  {
   "cell_type": "code",
   "execution_count": 99,
   "metadata": {},
   "outputs": [],
   "source": [
    "df_pd = df_arrow.to_pandas()"
   ]
  },
  {
   "cell_type": "code",
   "execution_count": 100,
   "metadata": {},
   "outputs": [
    {
     "data": {
      "text/html": [
       "<div>\n",
       "<style scoped>\n",
       "    .dataframe tbody tr th:only-of-type {\n",
       "        vertical-align: middle;\n",
       "    }\n",
       "\n",
       "    .dataframe tbody tr th {\n",
       "        vertical-align: top;\n",
       "    }\n",
       "\n",
       "    .dataframe thead th {\n",
       "        text-align: right;\n",
       "    }\n",
       "</style>\n",
       "<table border=\"1\" class=\"dataframe\">\n",
       "  <thead>\n",
       "    <tr style=\"text-align: right;\">\n",
       "      <th></th>\n",
       "      <th>job_title</th>\n",
       "      <th>experience_level</th>\n",
       "      <th>employment_type</th>\n",
       "      <th>work_models</th>\n",
       "      <th>work_year</th>\n",
       "      <th>employee_residence</th>\n",
       "      <th>salary</th>\n",
       "      <th>salary_currency</th>\n",
       "      <th>salary_in_usd</th>\n",
       "      <th>company_location</th>\n",
       "      <th>company_size</th>\n",
       "    </tr>\n",
       "  </thead>\n",
       "  <tbody>\n",
       "    <tr>\n",
       "      <th>0</th>\n",
       "      <td>ML Engineer</td>\n",
       "      <td>Senior-level</td>\n",
       "      <td>Full-time</td>\n",
       "      <td>On-site</td>\n",
       "      <td>2024</td>\n",
       "      <td>Germany</td>\n",
       "      <td>212000</td>\n",
       "      <td>USD</td>\n",
       "      <td>212000</td>\n",
       "      <td>Germany</td>\n",
       "      <td>Medium</td>\n",
       "    </tr>\n",
       "    <tr>\n",
       "      <th>1</th>\n",
       "      <td>ML Engineer</td>\n",
       "      <td>Senior-level</td>\n",
       "      <td>Full-time</td>\n",
       "      <td>On-site</td>\n",
       "      <td>2024</td>\n",
       "      <td>Germany</td>\n",
       "      <td>93300</td>\n",
       "      <td>USD</td>\n",
       "      <td>93300</td>\n",
       "      <td>Germany</td>\n",
       "      <td>Medium</td>\n",
       "    </tr>\n",
       "    <tr>\n",
       "      <th>2</th>\n",
       "      <td>Data Science</td>\n",
       "      <td>Entry-level</td>\n",
       "      <td>Part-time</td>\n",
       "      <td>Hybrid</td>\n",
       "      <td>2024</td>\n",
       "      <td>Germany</td>\n",
       "      <td>15000</td>\n",
       "      <td>EUR</td>\n",
       "      <td>16666</td>\n",
       "      <td>Germany</td>\n",
       "      <td>Medium</td>\n",
       "    </tr>\n",
       "    <tr>\n",
       "      <th>3</th>\n",
       "      <td>Data Scientist</td>\n",
       "      <td>Mid-level</td>\n",
       "      <td>Full-time</td>\n",
       "      <td>Remote</td>\n",
       "      <td>2023</td>\n",
       "      <td>Germany</td>\n",
       "      <td>56000</td>\n",
       "      <td>EUR</td>\n",
       "      <td>60462</td>\n",
       "      <td>Germany</td>\n",
       "      <td>Large</td>\n",
       "    </tr>\n",
       "    <tr>\n",
       "      <th>4</th>\n",
       "      <td>ML Engineer</td>\n",
       "      <td>Senior-level</td>\n",
       "      <td>Full-time</td>\n",
       "      <td>On-site</td>\n",
       "      <td>2023</td>\n",
       "      <td>Germany</td>\n",
       "      <td>275000</td>\n",
       "      <td>USD</td>\n",
       "      <td>275000</td>\n",
       "      <td>Germany</td>\n",
       "      <td>Medium</td>\n",
       "    </tr>\n",
       "    <tr>\n",
       "      <th>...</th>\n",
       "      <td>...</td>\n",
       "      <td>...</td>\n",
       "      <td>...</td>\n",
       "      <td>...</td>\n",
       "      <td>...</td>\n",
       "      <td>...</td>\n",
       "      <td>...</td>\n",
       "      <td>...</td>\n",
       "      <td>...</td>\n",
       "      <td>...</td>\n",
       "      <td>...</td>\n",
       "    </tr>\n",
       "    <tr>\n",
       "      <th>73</th>\n",
       "      <td>Data Engineer</td>\n",
       "      <td>Mid-level</td>\n",
       "      <td>Full-time</td>\n",
       "      <td>Remote</td>\n",
       "      <td>2020</td>\n",
       "      <td>Germany</td>\n",
       "      <td>51999</td>\n",
       "      <td>EUR</td>\n",
       "      <td>59303</td>\n",
       "      <td>Germany</td>\n",
       "      <td>Small</td>\n",
       "    </tr>\n",
       "    <tr>\n",
       "      <th>74</th>\n",
       "      <td>ML Engineer</td>\n",
       "      <td>Entry-level</td>\n",
       "      <td>Part-time</td>\n",
       "      <td>Remote</td>\n",
       "      <td>2020</td>\n",
       "      <td>Germany</td>\n",
       "      <td>14000</td>\n",
       "      <td>EUR</td>\n",
       "      <td>15966</td>\n",
       "      <td>Germany</td>\n",
       "      <td>Small</td>\n",
       "    </tr>\n",
       "    <tr>\n",
       "      <th>75</th>\n",
       "      <td>Data Scientist</td>\n",
       "      <td>Mid-level</td>\n",
       "      <td>Full-time</td>\n",
       "      <td>On-site</td>\n",
       "      <td>2020</td>\n",
       "      <td>Germany</td>\n",
       "      <td>70000</td>\n",
       "      <td>EUR</td>\n",
       "      <td>79833</td>\n",
       "      <td>Germany</td>\n",
       "      <td>Large</td>\n",
       "    </tr>\n",
       "    <tr>\n",
       "      <th>76</th>\n",
       "      <td>Data Scientist</td>\n",
       "      <td>Entry-level</td>\n",
       "      <td>Full-time</td>\n",
       "      <td>Hybrid</td>\n",
       "      <td>2020</td>\n",
       "      <td>Germany</td>\n",
       "      <td>55000</td>\n",
       "      <td>EUR</td>\n",
       "      <td>62726</td>\n",
       "      <td>Germany</td>\n",
       "      <td>Small</td>\n",
       "    </tr>\n",
       "    <tr>\n",
       "      <th>77</th>\n",
       "      <td>Principal Data Scientist</td>\n",
       "      <td>Senior-level</td>\n",
       "      <td>Full-time</td>\n",
       "      <td>Remote</td>\n",
       "      <td>2020</td>\n",
       "      <td>Germany</td>\n",
       "      <td>130000</td>\n",
       "      <td>EUR</td>\n",
       "      <td>148261</td>\n",
       "      <td>Germany</td>\n",
       "      <td>Medium</td>\n",
       "    </tr>\n",
       "  </tbody>\n",
       "</table>\n",
       "<p>78 rows × 11 columns</p>\n",
       "</div>"
      ],
      "text/plain": [
       "                   job_title experience_level employment_type work_models  \\\n",
       "0                ML Engineer     Senior-level       Full-time     On-site   \n",
       "1                ML Engineer     Senior-level       Full-time     On-site   \n",
       "2               Data Science      Entry-level       Part-time      Hybrid   \n",
       "3             Data Scientist        Mid-level       Full-time      Remote   \n",
       "4                ML Engineer     Senior-level       Full-time     On-site   \n",
       "..                       ...              ...             ...         ...   \n",
       "73             Data Engineer        Mid-level       Full-time      Remote   \n",
       "74               ML Engineer      Entry-level       Part-time      Remote   \n",
       "75            Data Scientist        Mid-level       Full-time     On-site   \n",
       "76            Data Scientist      Entry-level       Full-time      Hybrid   \n",
       "77  Principal Data Scientist     Senior-level       Full-time      Remote   \n",
       "\n",
       "    work_year employee_residence  salary salary_currency  salary_in_usd  \\\n",
       "0        2024            Germany  212000             USD         212000   \n",
       "1        2024            Germany   93300             USD          93300   \n",
       "2        2024            Germany   15000             EUR          16666   \n",
       "3        2023            Germany   56000             EUR          60462   \n",
       "4        2023            Germany  275000             USD         275000   \n",
       "..        ...                ...     ...             ...            ...   \n",
       "73       2020            Germany   51999             EUR          59303   \n",
       "74       2020            Germany   14000             EUR          15966   \n",
       "75       2020            Germany   70000             EUR          79833   \n",
       "76       2020            Germany   55000             EUR          62726   \n",
       "77       2020            Germany  130000             EUR         148261   \n",
       "\n",
       "   company_location company_size  \n",
       "0           Germany       Medium  \n",
       "1           Germany       Medium  \n",
       "2           Germany       Medium  \n",
       "3           Germany        Large  \n",
       "4           Germany       Medium  \n",
       "..              ...          ...  \n",
       "73          Germany        Small  \n",
       "74          Germany        Small  \n",
       "75          Germany        Large  \n",
       "76          Germany        Small  \n",
       "77          Germany       Medium  \n",
       "\n",
       "[78 rows x 11 columns]"
      ]
     },
     "execution_count": 100,
     "metadata": {},
     "output_type": "execute_result"
    }
   ],
   "source": [
    "df_pd"
   ]
  },
  {
   "cell_type": "code",
   "execution_count": null,
   "metadata": {},
   "outputs": [
    {
     "name": "stdout",
     "output_type": "stream",
     "text": [
      "<class 'duckdb.duckdb.DuckDBPyRelation'>\n"
     ]
    }
   ],
   "source": []
  }
 ],
 "metadata": {
  "kernelspec": {
   "display_name": "dev-duckdb-0yjDO2gd-py3.10",
   "language": "python",
   "name": "python3"
  },
  "language_info": {
   "codemirror_mode": {
    "name": "ipython",
    "version": 3
   },
   "file_extension": ".py",
   "mimetype": "text/x-python",
   "name": "python",
   "nbconvert_exporter": "python",
   "pygments_lexer": "ipython3",
   "version": "3.10.12"
  }
 },
 "nbformat": 4,
 "nbformat_minor": 2
}
